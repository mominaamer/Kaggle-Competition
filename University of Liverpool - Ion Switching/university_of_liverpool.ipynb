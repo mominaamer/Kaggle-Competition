{
  "nbformat": 4,
  "nbformat_minor": 0,
  "metadata": {
    "kernelspec": {
      "language": "python",
      "display_name": "Python 3",
      "name": "python3"
    },
    "language_info": {
      "pygments_lexer": "ipython3",
      "nbconvert_exporter": "python",
      "version": "3.6.4",
      "file_extension": ".py",
      "codemirror_mode": {
        "name": "ipython",
        "version": 3
      },
      "name": "python",
      "mimetype": "text/x-python"
    },
    "colab": {
      "name": "university-of-liverpool.ipynb",
      "provenance": [],
      "include_colab_link": true
    }
  },
  "cells": [
    {
      "cell_type": "markdown",
      "metadata": {
        "id": "view-in-github",
        "colab_type": "text"
      },
      "source": [
        "<a href=\"https://colab.research.google.com/github/mominaamer/Python-Projects/blob/main/university_of_liverpool.ipynb\" target=\"_parent\"><img src=\"https://colab.research.google.com/assets/colab-badge.svg\" alt=\"Open In Colab\"/></a>"
      ]
    },
    {
      "cell_type": "code",
      "metadata": {
        "_uuid": "d629ff2d2480ee46fbb7e2d37f6b5fab8052498a",
        "_cell_guid": "79c7e3d0-c299-4dcb-8224-4455121ee9b0",
        "trusted": true,
        "id": "uQ0QANoWqFXi"
      },
      "source": [
        "import numpy as np \n",
        "import pandas as pd \n",
        "pd.plotting.register_matplotlib_converters()\n",
        "import matplotlib.pyplot as plt\n",
        "%matplotlib inline\n",
        "import seaborn as sns\n",
        "from sklearn.metrics import mean_absolute_error\n",
        "from sklearn.metrics import f1_score\n",
        "from sklearn.model_selection import train_test_split\n",
        "from sklearn.preprocessing import StandardScaler\n",
        "from sklearn.neighbors import KNeighborsClassifier\n",
        "from sklearn.ensemble import RandomForestClassifier\n",
        "from sklearn.discriminant_analysis import LinearDiscriminantAnalysis\n",
        "import lightgbm as lgb\n",
        "import os"
      ],
      "execution_count": null,
      "outputs": []
    },
    {
      "cell_type": "code",
      "metadata": {
        "trusted": true,
        "id": "iBPwh_zeqFX-"
      },
      "source": [
        "train = pd.read_csv('../input/liverpool-ion-switching/train.csv')\n",
        "test= pd.read_csv('../input/liverpool-ion-switching/test.csv')\n",
        "submission = pd.read_csv('../input/liverpool-ion-switching/sample_submission.csv')"
      ],
      "execution_count": null,
      "outputs": []
    },
    {
      "cell_type": "code",
      "metadata": {
        "trusted": true,
        "id": "baxCXhvSqFYA"
      },
      "source": [
        "train.head()"
      ],
      "execution_count": null,
      "outputs": []
    },
    {
      "cell_type": "code",
      "metadata": {
        "trusted": true,
        "id": "XdPF9s41qFYC"
      },
      "source": [
        "test.head()"
      ],
      "execution_count": null,
      "outputs": []
    },
    {
      "cell_type": "markdown",
      "metadata": {
        "id": "FgpkkJ-nqFYD"
      },
      "source": [
        "# Create Model"
      ]
    },
    {
      "cell_type": "code",
      "metadata": {
        "trusted": true,
        "id": "RkZioxkAqFYE"
      },
      "source": [
        "Factors = [\"time\", \"signal\"]\n",
        "x = train[Factors]\n",
        "y = train.open_channels\n",
        "x_train, x_valid, y_train, y_valid = train_test_split(x,y,train_size=0.5,test_size=0.2,random_state=0)"
      ],
      "execution_count": null,
      "outputs": []
    },
    {
      "cell_type": "code",
      "metadata": {
        "trusted": true,
        "id": "q7ReK9WzqFYG"
      },
      "source": [
        "model = RandomForestClassifier(n_estimators=100, max_depth=10, random_state=1, n_jobs=-1)\n",
        "model.fit(x_train, y_train)\n"
      ],
      "execution_count": null,
      "outputs": []
    },
    {
      "cell_type": "code",
      "metadata": {
        "trusted": true,
        "id": "E3Bebu16qFYH"
      },
      "source": [
        "model1 = LinearDiscriminantAnalysis()\n",
        "model1.fit(x_train, y_train)"
      ],
      "execution_count": null,
      "outputs": []
    },
    {
      "cell_type": "code",
      "metadata": {
        "trusted": true,
        "id": "c4cl5cPZqFYI"
      },
      "source": [
        "test_cols = [\"time\", \"signal\"]\n",
        "test_pred = test[test_cols]\n",
        "pred = model.predict(test_pred)\n",
        "pred1 = model1.predict(test_pred)"
      ],
      "execution_count": null,
      "outputs": []
    },
    {
      "cell_type": "code",
      "metadata": {
        "trusted": true,
        "id": "Iu_sS88PqFYJ"
      },
      "source": [
        "score = model.score(x_valid, y_valid)\n",
        "score1 = model1.score(x_valid, y_valid)\n",
        "print(score)\n",
        "print(score1)"
      ],
      "execution_count": null,
      "outputs": []
    },
    {
      "cell_type": "code",
      "metadata": {
        "trusted": true,
        "id": "ngWHQ0GBqFYL"
      },
      "source": [
        "submission = pd.DataFrame()\n",
        "submission['time'] = test['time']\n",
        "submission['open_channels'] = pred\n",
        "submission.to_csv('submission.csv', index=False, float_format='%.4f')"
      ],
      "execution_count": null,
      "outputs": []
    }
  ]
}
